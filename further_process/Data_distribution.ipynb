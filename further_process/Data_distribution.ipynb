{
 "cells": [
  {
   "cell_type": "code",
   "execution_count": 1,
   "id": "adf83b3e-a05b-4434-8f13-3b5e32e36413",
   "metadata": {},
   "outputs": [],
   "source": [
    "import anndata as ad\n",
    "import pandas as pd\n",
    "import numpy as np\n",
    "import matplotlib.pyplot as plt\n",
    "import seaborn as sns\n",
    "import magic\n",
    "\n",
    "sc_path = '../cancer_single_cell_data/230_healthy_sc_rna.h5ad'\n",
    "bulk_path =  '../cancer_brca_metabric_bulk_data/data_mrna_illumina_microarray_zscores_ref_diploid_samples.txt'"
   ]
  },
  {
   "cell_type": "code",
   "execution_count": 9,
   "id": "df4b73e4-919c-437d-8d12-e0ae4949c771",
   "metadata": {},
   "outputs": [
    {
     "ename": "MemoryError",
     "evalue": "Unable to allocate 88.2 GiB for an array with shape (714331, 33145) and data type float32",
     "output_type": "error",
     "traceback": [
      "\u001b[1;31m---------------------------------------------------------------------------\u001b[0m",
      "\u001b[1;31mMemoryError\u001b[0m                               Traceback (most recent call last)",
      "Cell \u001b[1;32mIn[9], line 4\u001b[0m\n\u001b[0;32m      2\u001b[0m cell_names \u001b[38;5;241m=\u001b[39m sc_data\u001b[38;5;241m.\u001b[39mobs_names\n\u001b[0;32m      3\u001b[0m gene_names \u001b[38;5;241m=\u001b[39m sc_data\u001b[38;5;241m.\u001b[39mvar[\u001b[38;5;124m'\u001b[39m\u001b[38;5;124mfeature_name\u001b[39m\u001b[38;5;124m'\u001b[39m]\n\u001b[1;32m----> 4\u001b[0m sc_data_exp \u001b[38;5;241m=\u001b[39m \u001b[43msc_data\u001b[49m\u001b[38;5;241;43m.\u001b[39;49m\u001b[43mX\u001b[49m\u001b[38;5;241;43m.\u001b[39;49m\u001b[43mtoarray\u001b[49m\u001b[43m(\u001b[49m\u001b[43m)\u001b[49m\n\u001b[0;32m      5\u001b[0m \u001b[38;5;66;03m# magic_op = magic.MAGIC()\u001b[39;00m\n\u001b[0;32m      6\u001b[0m sc_df \u001b[38;5;241m=\u001b[39m pd\u001b[38;5;241m.\u001b[39mDataFrame(sc_data_exp, index\u001b[38;5;241m=\u001b[39mcell_names, columns\u001b[38;5;241m=\u001b[39mgene_names)\n",
      "File \u001b[1;32mc:\\users\\zhengzh\\appdata\\local\\programs\\python\\python38\\lib\\site-packages\\scipy\\sparse\\_compressed.py:1051\u001b[0m, in \u001b[0;36m_cs_matrix.toarray\u001b[1;34m(self, order, out)\u001b[0m\n\u001b[0;32m   1049\u001b[0m \u001b[38;5;28;01mif\u001b[39;00m out \u001b[38;5;129;01mis\u001b[39;00m \u001b[38;5;28;01mNone\u001b[39;00m \u001b[38;5;129;01mand\u001b[39;00m order \u001b[38;5;129;01mis\u001b[39;00m \u001b[38;5;28;01mNone\u001b[39;00m:\n\u001b[0;32m   1050\u001b[0m     order \u001b[38;5;241m=\u001b[39m \u001b[38;5;28mself\u001b[39m\u001b[38;5;241m.\u001b[39m_swap(\u001b[38;5;124m'\u001b[39m\u001b[38;5;124mcf\u001b[39m\u001b[38;5;124m'\u001b[39m)[\u001b[38;5;241m0\u001b[39m]\n\u001b[1;32m-> 1051\u001b[0m out \u001b[38;5;241m=\u001b[39m \u001b[38;5;28;43mself\u001b[39;49m\u001b[38;5;241;43m.\u001b[39;49m\u001b[43m_process_toarray_args\u001b[49m\u001b[43m(\u001b[49m\u001b[43morder\u001b[49m\u001b[43m,\u001b[49m\u001b[43m \u001b[49m\u001b[43mout\u001b[49m\u001b[43m)\u001b[49m\n\u001b[0;32m   1052\u001b[0m \u001b[38;5;28;01mif\u001b[39;00m \u001b[38;5;129;01mnot\u001b[39;00m (out\u001b[38;5;241m.\u001b[39mflags\u001b[38;5;241m.\u001b[39mc_contiguous \u001b[38;5;129;01mor\u001b[39;00m out\u001b[38;5;241m.\u001b[39mflags\u001b[38;5;241m.\u001b[39mf_contiguous):\n\u001b[0;32m   1053\u001b[0m     \u001b[38;5;28;01mraise\u001b[39;00m \u001b[38;5;167;01mValueError\u001b[39;00m(\u001b[38;5;124m'\u001b[39m\u001b[38;5;124mOutput array must be C or F contiguous\u001b[39m\u001b[38;5;124m'\u001b[39m)\n",
      "File \u001b[1;32mc:\\users\\zhengzh\\appdata\\local\\programs\\python\\python38\\lib\\site-packages\\scipy\\sparse\\_base.py:1298\u001b[0m, in \u001b[0;36mspmatrix._process_toarray_args\u001b[1;34m(self, order, out)\u001b[0m\n\u001b[0;32m   1296\u001b[0m     \u001b[38;5;28;01mreturn\u001b[39;00m out\n\u001b[0;32m   1297\u001b[0m \u001b[38;5;28;01melse\u001b[39;00m:\n\u001b[1;32m-> 1298\u001b[0m     \u001b[38;5;28;01mreturn\u001b[39;00m \u001b[43mnp\u001b[49m\u001b[38;5;241;43m.\u001b[39;49m\u001b[43mzeros\u001b[49m\u001b[43m(\u001b[49m\u001b[38;5;28;43mself\u001b[39;49m\u001b[38;5;241;43m.\u001b[39;49m\u001b[43mshape\u001b[49m\u001b[43m,\u001b[49m\u001b[43m \u001b[49m\u001b[43mdtype\u001b[49m\u001b[38;5;241;43m=\u001b[39;49m\u001b[38;5;28;43mself\u001b[39;49m\u001b[38;5;241;43m.\u001b[39;49m\u001b[43mdtype\u001b[49m\u001b[43m,\u001b[49m\u001b[43m \u001b[49m\u001b[43morder\u001b[49m\u001b[38;5;241;43m=\u001b[39;49m\u001b[43morder\u001b[49m\u001b[43m)\u001b[49m\n",
      "\u001b[1;31mMemoryError\u001b[0m: Unable to allocate 88.2 GiB for an array with shape (714331, 33145) and data type float32"
     ]
    }
   ],
   "source": [
    "sc_data = ad.read_h5ad(sc_path)\n",
    "cell_names = sc_data.obs_names\n",
    "gene_names = sc_data.var['feature_name']\n",
    "sc_data_exp = sc_data.X.toarray()\n",
    "# magic_op = magic.MAGIC()\n",
    "sc_df = pd.DataFrame(sc_data_exp, index=cell_names, columns=gene_names)"
   ]
  },
  {
   "cell_type": "code",
   "execution_count": null,
   "id": "1ff43acf-1210-49c9-b05c-69bd0ca63909",
   "metadata": {},
   "outputs": [],
   "source": [
    "bulk = pd.read_csv(bulk_path, index_col=0, sep='\\t')\n",
    "bulk = bulk.drop(bulk.columns[0], axis=1).T\n",
    "bulk = bulk.apply(lambda row: row.fillna(row.mean()), axis=1)"
   ]
  },
  {
   "cell_type": "code",
   "execution_count": null,
   "id": "b9d67a28-4e9b-47ac-bbeb-093130453698",
   "metadata": {},
   "outputs": [],
   "source": [
    "common_genes = sc_df.columns.intersection(bulk.columns)\n",
    "sc_df = sc_df.loc[:, ~sc_df.columns.duplicated()]\n",
    "\n",
    "bulk = bulk.loc[:, ~bulk.columns.duplicated()]\n",
    "sc_df = sc_df[common_genes]\n",
    "bulk = bulk[common_genes]"
   ]
  },
  {
   "cell_type": "code",
   "execution_count": null,
   "id": "6a03f9a9-f33c-45c5-8fe7-b566c477a781",
   "metadata": {},
   "outputs": [],
   "source": [
    "from sklearn.preprocessing import MinMaxScaler, StandardScaler\n",
    "from sklearn.feature_selection import VarianceThreshold\n",
    "\n",
    "def apply_scaling(bulk_data, sampled_cells, scaling_method):\n",
    "    if scaling_method == 'minmax':\n",
    "        scaler = MinMaxScaler()\n",
    "    elif scaling_method == 'standard':\n",
    "        scaler = StandardScaler()\n",
    "    else:\n",
    "        raise ValueError(\"Unsupported scaling method\")\n",
    "\n",
    "    bulk_data_scaled = scaler.fit_transform(bulk_data)\n",
    "    sampled_cells_scaled = scaler.fit_transform(sampled_cells)\n",
    "    return bulk_data_scaled, sampled_cells_scaled"
   ]
  },
  {
   "cell_type": "code",
   "execution_count": null,
   "id": "301a53cb-006b-4dec-af43-e3baca75cd82",
   "metadata": {},
   "outputs": [],
   "source": [
    "def filter_genes_by_variance(bulk_data, sampled_cells, variance_threshold):\n",
    "    bulk_var = np.var(bulk_data, axis=0)\n",
    "    sampled_var = np.var(sampled_cells, axis=0)\n",
    "    combined_var = bulk_var + sampled_var\n",
    "    var_cutoff = np.sort(combined_var)[-int(combined_var.shape[0] * variance_threshold)]\n",
    "    selected_genes = combined_var > var_cutoff\n",
    "    return bulk_data[:, selected_genes], sampled_cells[:, selected_genes], selected_genes"
   ]
  },
  {
   "cell_type": "code",
   "execution_count": null,
   "id": "7c030c0e-ccfc-4aa7-830d-e81787caf8e5",
   "metadata": {},
   "outputs": [],
   "source": [
    "def plot_bulk_vs_sampled_distribution(bulk_data, sampled_cells, feature_indices=None, bins=50, colors=None):\n",
    "    \"\"\"\n",
    "    Visualize the distribution of bulk_data and sampled single cells by plotting the selected features' distributions.\n",
    "\n",
    "    Parameters:\n",
    "    - bulk_data: Original bulk expression data.\n",
    "    - sampled_cells: Sampled single cell data.\n",
    "    - feature_indices: List of indices of features to plot. If None, plot the distribution of all features' mean.\n",
    "    - bins: Number of bins to use in the histogram.\n",
    "    - colors: List of colors to use for plotting the histograms.\n",
    "    \"\"\"\n",
    "    if colors is None:\n",
    "        colors = [\"blue\", \"orange\"]\n",
    "        \n",
    "    if feature_indices is None:\n",
    "        # Plot mean of all features if no specific indices are selected\n",
    "        bulk_mean = bulk_data.mean(axis=0)\n",
    "        sampled_mean = sampled_cells.mean(axis=0)\n",
    "\n",
    "        plt.figure(figsize=(10, 6))\n",
    "        sns.histplot(bulk_mean, bins=bins, kde=True, label=\"Bulk Data (mean)\", color=colors[0], stat=\"density\")\n",
    "        sns.histplot(sampled_mean, bins=bins, kde=True, label=\"Sampled Cells (mean)\", color=colors[1], stat=\"density\")\n",
    "    else:\n",
    "        plt.figure(figsize=(10, 6))\n",
    "        for feature_idx in feature_indices:\n",
    "            sns.histplot(bulk_data[:, feature_idx], bins=bins, kde=True, label=f\"Bulk Feature {feature_idx}\", color=colors[0], stat=\"density\")\n",
    "            sns.histplot(sampled_cells[:, feature_idx], bins=bins, kde=True, label=f\"Sampled Cells Feature {feature_idx}\", color=colors[1], stat=\"density\")\n",
    "\n",
    "    plt.title(\"Distribution Comparison: Bulk Data vs Sampled Single Cells\")\n",
    "    plt.xlabel(\"Expression Level\")\n",
    "    plt.ylabel(\"Density\")\n",
    "    plt.legend()\n",
    "    plt.grid(True)\n",
    "    plt.show()\n"
   ]
  },
  {
   "cell_type": "code",
   "execution_count": null,
   "id": "e7348bc5-d750-4280-9428-b0406d491107",
   "metadata": {},
   "outputs": [],
   "source": [
    "bulk_scaled, sampled_scaled = apply_scaling(bulk.values, sc_df.values, scaling_method='minmax')\n",
    "\n",
    "# Step 2: Filter genes by variance\n",
    "bulk_filtered, sampled_filtered, selected_genes = filter_genes_by_variance(bulk_scaled, sampled_scaled, variance_threshold=0.1)\n",
    "# sampled_filtered = np.log1p(sampled_filtered)\n",
    "\n",
    "plot_bulk_vs_sampled_distribution(bulk_scaled, sampled_filtered, feature_indices=None, bins=50)\n"
   ]
  },
  {
   "cell_type": "code",
   "execution_count": null,
   "id": "9c1630fa-e431-4f1b-adf6-3b0f82452b37",
   "metadata": {},
   "outputs": [],
   "source": [
    "sampled_filtered.shape"
   ]
  },
  {
   "cell_type": "code",
   "execution_count": null,
   "id": "6ca7029d-f90d-41bb-94bd-0240cac5693b",
   "metadata": {},
   "outputs": [],
   "source": []
  }
 ],
 "metadata": {
  "kernelspec": {
   "display_name": "Python 3 (ipykernel)",
   "language": "python",
   "name": "python3"
  },
  "language_info": {
   "codemirror_mode": {
    "name": "ipython",
    "version": 3
   },
   "file_extension": ".py",
   "mimetype": "text/x-python",
   "name": "python",
   "nbconvert_exporter": "python",
   "pygments_lexer": "ipython3",
   "version": "3.8.8"
  }
 },
 "nbformat": 4,
 "nbformat_minor": 5
}
