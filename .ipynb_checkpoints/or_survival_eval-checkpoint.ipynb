{
 "cells": [
  {
   "cell_type": "code",
   "execution_count": 1,
   "id": "839f81fd-8733-405c-acfe-5b668148c3ab",
   "metadata": {},
   "outputs": [],
   "source": [
    "import pandas as pd\n",
    "\n",
    "patient_path = '../brca_tcga_pub2015/data_clinical_patient.txt'\n",
    "patient_df = pd.read_csv(patient_path, sep='\\t', index_col=0)"
   ]
  },
  {
   "cell_type": "code",
   "execution_count": 19,
   "id": "90e242c4-e462-4ea6-85d0-ad169a5b8173",
   "metadata": {},
   "outputs": [],
   "source": [
    "survival_list = ['Overall Survival Status',\n",
    "       'Overall Survival (Months)', 'Disease Free Status',\n",
    "       'Disease Free (Months)']\n",
    "\n",
    "survival_status = patient_df[survival_list]\n",
    "surv_sta = survival_status.iloc[4:,:1]\n",
    "surv_length = survival_status.iloc[4:,1:2]\n",
    "surv_sta.rename(columns={surv_sta.columns[0]: 'surv_status'}, inplace=True)\n",
    "surv_length.rename(columns={surv_length.columns[0]: 'surv_length'}, inplace=True)"
   ]
  },
  {
   "cell_type": "code",
   "execution_count": 2,
   "id": "d17347bb-4a2c-4b64-9df2-c95a93a4da9d",
   "metadata": {},
   "outputs": [],
   "source": [
    "stage_list = ['American Joint Committee on Cancer Tumor Stage Code',\n",
    "       'Neoplasm Disease Lymph Node Stage American Joint Committee on Cancer Code',\n",
    "       'American Joint Committee on Cancer Metastasis Stage Code',\n",
    "       'Neoplasm Disease Stage American Joint Committee on Cancer Code',]\n",
    "\n",
    "stage_info = patient_df[stage_list]\n",
    "overall_stages = stage_info.iloc[4:,3:4]\n",
    "overall_stages.rename(columns={overall_stages.columns[0]: 'overall_stage'}, inplace=True)\n",
    "drop_indices = overall_stages[overall_stages['overall_stage'].isin(['[Not Available]', '[Discrepancy]'])].index\n",
    "overall_stages = overall_stages.drop(index=drop_indices)"
   ]
  },
  {
   "cell_type": "code",
   "execution_count": 3,
   "id": "087ab2a9-5d01-4136-b6e2-f9988c5a6c6c",
   "metadata": {},
   "outputs": [],
   "source": [
    "stage_mapping = {\n",
    "    'Stage I': 1,\n",
    "    'Stage IA': 1,\n",
    "    'Stage IB': 1,\n",
    "    'Stage II': 2,\n",
    "    'Stage IIA': 2,\n",
    "    'Stage IIB': 2,\n",
    "    'Stage III': 3,\n",
    "    'Stage IIIA': 3,\n",
    "    'Stage IIIB': 3,\n",
    "    'Stage IIIC': 3,\n",
    "    'Stage IV': 4,\n",
    "    'Stage X': 5  \n",
    "}\n",
    "\n",
    "overall_stages['overall_stage_simplified'] = overall_stages['overall_stage'].map(stage_mapping)"
   ]
  },
  {
   "cell_type": "code",
   "execution_count": 4,
   "id": "11d81b52-138f-47f5-bdbc-4d499c46ca46",
   "metadata": {},
   "outputs": [],
   "source": [
    "exp_path = '../cancer_data/2015_bulk_rna_seq.txt'\n",
    "exp = pd.read_csv(exp_path, sep='\\t', index_col=0)\n",
    "exp.index = [i[:-3] for i in exp.index]"
   ]
  },
  {
   "cell_type": "code",
   "execution_count": 5,
   "id": "165293b3-84d6-4129-a55b-0546b4a037d2",
   "metadata": {},
   "outputs": [],
   "source": [
    "common_index = exp.index.intersection(overall_stages.index)\n",
    "overall_stages = overall_stages.loc[common_index]\n",
    "exp = exp.loc[common_index]"
   ]
  },
  {
   "cell_type": "code",
   "execution_count": 6,
   "id": "e87c3b3a-782a-4d5b-8fed-aa54351e65f7",
   "metadata": {},
   "outputs": [
    {
     "name": "stdout",
     "output_type": "stream",
     "text": [
      "Confusion Matrix:\n",
      "[[ 2 18  3  0  0]\n",
      " [13 71 16  0  0]\n",
      " [ 2 23  6  0  0]\n",
      " [ 0  2  1  0  0]\n",
      " [ 0  3  1  0  0]]\n",
      "\n",
      "Classification Report:\n",
      "              precision    recall  f1-score   support\n",
      "\n",
      "           1       0.12      0.09      0.10        23\n",
      "           2       0.61      0.71      0.65       100\n",
      "           3       0.22      0.19      0.21        31\n",
      "           4       0.00      0.00      0.00         3\n",
      "           5       0.00      0.00      0.00         4\n",
      "\n",
      "    accuracy                           0.49       161\n",
      "   macro avg       0.19      0.20      0.19       161\n",
      "weighted avg       0.44      0.49      0.46       161\n",
      "\n"
     ]
    },
    {
     "name": "stderr",
     "output_type": "stream",
     "text": [
      "c:\\users\\zhengzh\\appdata\\local\\programs\\python\\python38\\lib\\site-packages\\sklearn\\metrics\\_classification.py:1471: UndefinedMetricWarning: Precision and F-score are ill-defined and being set to 0.0 in labels with no predicted samples. Use `zero_division` parameter to control this behavior.\n",
      "  _warn_prf(average, modifier, msg_start, len(result))\n",
      "c:\\users\\zhengzh\\appdata\\local\\programs\\python\\python38\\lib\\site-packages\\sklearn\\metrics\\_classification.py:1471: UndefinedMetricWarning: Precision and F-score are ill-defined and being set to 0.0 in labels with no predicted samples. Use `zero_division` parameter to control this behavior.\n",
      "  _warn_prf(average, modifier, msg_start, len(result))\n",
      "c:\\users\\zhengzh\\appdata\\local\\programs\\python\\python38\\lib\\site-packages\\sklearn\\metrics\\_classification.py:1471: UndefinedMetricWarning: Precision and F-score are ill-defined and being set to 0.0 in labels with no predicted samples. Use `zero_division` parameter to control this behavior.\n",
      "  _warn_prf(average, modifier, msg_start, len(result))\n"
     ]
    }
   ],
   "source": [
    "import numpy as np\n",
    "import pandas as pd\n",
    "from sklearn.model_selection import train_test_split\n",
    "from sklearn.preprocessing import StandardScaler\n",
    "from sklearn.linear_model import LogisticRegression\n",
    "from sklearn.metrics import classification_report, confusion_matrix\n",
    "\n",
    "# 提取特征矩阵和目标变量\n",
    "X = exp.values  # 特征矩阵\n",
    "y = overall_stages['overall_stage_simplified'].values  # 目标变量\n",
    "\n",
    "# 划分数据集\n",
    "X_train, X_test, y_train, y_test = train_test_split(X, y, test_size=0.2, random_state=42)\n",
    "\n",
    "# 标准化特征矩阵\n",
    "scaler = StandardScaler()\n",
    "X_train = scaler.fit_transform(X_train)\n",
    "X_test = scaler.transform(X_test)\n",
    "\n",
    "# 创建并训练逻辑回归模型\n",
    "model = LogisticRegression(max_iter=1000)\n",
    "model.fit(X_train, y_train)\n",
    "\n",
    "# 预测\n",
    "y_pred = model.predict(X_test)\n",
    "\n",
    "# 评估模型\n",
    "print(\"Confusion Matrix:\")\n",
    "print(confusion_matrix(y_test, y_pred))\n",
    "print(\"\\nClassification Report:\")\n",
    "print(classification_report(y_test, y_pred))\n"
   ]
  },
  {
   "cell_type": "code",
   "execution_count": 7,
   "id": "f2e1ecf9-e0e4-4b3c-992e-a764caa18161",
   "metadata": {},
   "outputs": [
    {
     "name": "stdout",
     "output_type": "stream",
     "text": [
      "MLP Classifier Confusion Matrix:\n",
      "[[ 3 16  4  0  0]\n",
      " [13 64 21  2  0]\n",
      " [ 5 18  8  0  0]\n",
      " [ 0  2  1  0  0]\n",
      " [ 1  3  0  0  0]]\n",
      "\n",
      "MLP Classifier Classification Report:\n",
      "              precision    recall  f1-score   support\n",
      "\n",
      "           1       0.14      0.13      0.13        23\n",
      "           2       0.62      0.64      0.63       100\n",
      "           3       0.24      0.26      0.25        31\n",
      "           4       0.00      0.00      0.00         3\n",
      "           5       0.00      0.00      0.00         4\n",
      "\n",
      "    accuracy                           0.47       161\n",
      "   macro avg       0.20      0.21      0.20       161\n",
      "weighted avg       0.45      0.47      0.46       161\n",
      "\n"
     ]
    },
    {
     "name": "stderr",
     "output_type": "stream",
     "text": [
      "c:\\users\\zhengzh\\appdata\\local\\programs\\python\\python38\\lib\\site-packages\\sklearn\\metrics\\_classification.py:1471: UndefinedMetricWarning: Precision and F-score are ill-defined and being set to 0.0 in labels with no predicted samples. Use `zero_division` parameter to control this behavior.\n",
      "  _warn_prf(average, modifier, msg_start, len(result))\n",
      "c:\\users\\zhengzh\\appdata\\local\\programs\\python\\python38\\lib\\site-packages\\sklearn\\metrics\\_classification.py:1471: UndefinedMetricWarning: Precision and F-score are ill-defined and being set to 0.0 in labels with no predicted samples. Use `zero_division` parameter to control this behavior.\n",
      "  _warn_prf(average, modifier, msg_start, len(result))\n",
      "c:\\users\\zhengzh\\appdata\\local\\programs\\python\\python38\\lib\\site-packages\\sklearn\\metrics\\_classification.py:1471: UndefinedMetricWarning: Precision and F-score are ill-defined and being set to 0.0 in labels with no predicted samples. Use `zero_division` parameter to control this behavior.\n",
      "  _warn_prf(average, modifier, msg_start, len(result))\n"
     ]
    }
   ],
   "source": [
    "from sklearn.neural_network import MLPClassifier\n",
    "\n",
    "# 创建并训练MLP模型\n",
    "mlp_model = MLPClassifier(max_iter=1000, random_state=42)\n",
    "mlp_model.fit(X_train, y_train)\n",
    "\n",
    "# 预测\n",
    "y_pred_mlp = mlp_model.predict(X_test)\n",
    "\n",
    "# 评估模型\n",
    "print(\"MLP Classifier Confusion Matrix:\")\n",
    "print(confusion_matrix(y_test, y_pred_mlp))\n",
    "print(\"\\nMLP Classifier Classification Report:\")\n",
    "print(classification_report(y_test, y_pred_mlp))\n"
   ]
  },
  {
   "cell_type": "code",
   "execution_count": 8,
   "id": "fb6a2c20-1515-4247-9250-ea541d14ac3c",
   "metadata": {},
   "outputs": [
    {
     "name": "stdout",
     "output_type": "stream",
     "text": [
      "Random Forest Classifier Confusion Matrix:\n",
      "[[ 1 20  2  0  0]\n",
      " [ 0 99  1  0  0]\n",
      " [ 0 30  1  0  0]\n",
      " [ 0  3  0  0  0]\n",
      " [ 0  4  0  0  0]]\n",
      "\n",
      "Random Forest Classifier Classification Report:\n",
      "              precision    recall  f1-score   support\n",
      "\n",
      "           1       1.00      0.04      0.08        23\n",
      "           2       0.63      0.99      0.77       100\n",
      "           3       0.25      0.03      0.06        31\n",
      "           4       0.00      0.00      0.00         3\n",
      "           5       0.00      0.00      0.00         4\n",
      "\n",
      "    accuracy                           0.63       161\n",
      "   macro avg       0.38      0.21      0.18       161\n",
      "weighted avg       0.59      0.63      0.50       161\n",
      "\n"
     ]
    },
    {
     "name": "stderr",
     "output_type": "stream",
     "text": [
      "c:\\users\\zhengzh\\appdata\\local\\programs\\python\\python38\\lib\\site-packages\\sklearn\\metrics\\_classification.py:1471: UndefinedMetricWarning: Precision and F-score are ill-defined and being set to 0.0 in labels with no predicted samples. Use `zero_division` parameter to control this behavior.\n",
      "  _warn_prf(average, modifier, msg_start, len(result))\n",
      "c:\\users\\zhengzh\\appdata\\local\\programs\\python\\python38\\lib\\site-packages\\sklearn\\metrics\\_classification.py:1471: UndefinedMetricWarning: Precision and F-score are ill-defined and being set to 0.0 in labels with no predicted samples. Use `zero_division` parameter to control this behavior.\n",
      "  _warn_prf(average, modifier, msg_start, len(result))\n",
      "c:\\users\\zhengzh\\appdata\\local\\programs\\python\\python38\\lib\\site-packages\\sklearn\\metrics\\_classification.py:1471: UndefinedMetricWarning: Precision and F-score are ill-defined and being set to 0.0 in labels with no predicted samples. Use `zero_division` parameter to control this behavior.\n",
      "  _warn_prf(average, modifier, msg_start, len(result))\n"
     ]
    }
   ],
   "source": [
    "from sklearn.ensemble import RandomForestClassifier\n",
    "\n",
    "# 创建并训练RandomForest模型\n",
    "rf_model = RandomForestClassifier(n_estimators=100, random_state=42)\n",
    "rf_model.fit(X_train, y_train)\n",
    "\n",
    "# 预测\n",
    "y_pred_rf = rf_model.predict(X_test)\n",
    "\n",
    "# 评估模型\n",
    "print(\"Random Forest Classifier Confusion Matrix:\")\n",
    "print(confusion_matrix(y_test, y_pred_rf))\n",
    "print(\"\\nRandom Forest Classifier Classification Report:\")\n",
    "print(classification_report(y_test, y_pred_rf))\n"
   ]
  },
  {
   "cell_type": "code",
   "execution_count": 9,
   "id": "4bc24bd3-0696-4bef-bf85-17b0ee34f339",
   "metadata": {},
   "outputs": [
    {
     "name": "stdout",
     "output_type": "stream",
     "text": [
      "SVC Classifier Confusion Matrix:\n",
      "[[  0  23   0   0   0]\n",
      " [  0 100   0   0   0]\n",
      " [  0  31   0   0   0]\n",
      " [  0   3   0   0   0]\n",
      " [  0   4   0   0   0]]\n",
      "\n",
      "SVC Classifier Classification Report:\n",
      "              precision    recall  f1-score   support\n",
      "\n",
      "           1       0.00      0.00      0.00        23\n",
      "           2       0.62      1.00      0.77       100\n",
      "           3       0.00      0.00      0.00        31\n",
      "           4       0.00      0.00      0.00         3\n",
      "           5       0.00      0.00      0.00         4\n",
      "\n",
      "    accuracy                           0.62       161\n",
      "   macro avg       0.12      0.20      0.15       161\n",
      "weighted avg       0.39      0.62      0.48       161\n",
      "\n"
     ]
    },
    {
     "name": "stderr",
     "output_type": "stream",
     "text": [
      "c:\\users\\zhengzh\\appdata\\local\\programs\\python\\python38\\lib\\site-packages\\sklearn\\metrics\\_classification.py:1471: UndefinedMetricWarning: Precision and F-score are ill-defined and being set to 0.0 in labels with no predicted samples. Use `zero_division` parameter to control this behavior.\n",
      "  _warn_prf(average, modifier, msg_start, len(result))\n",
      "c:\\users\\zhengzh\\appdata\\local\\programs\\python\\python38\\lib\\site-packages\\sklearn\\metrics\\_classification.py:1471: UndefinedMetricWarning: Precision and F-score are ill-defined and being set to 0.0 in labels with no predicted samples. Use `zero_division` parameter to control this behavior.\n",
      "  _warn_prf(average, modifier, msg_start, len(result))\n",
      "c:\\users\\zhengzh\\appdata\\local\\programs\\python\\python38\\lib\\site-packages\\sklearn\\metrics\\_classification.py:1471: UndefinedMetricWarning: Precision and F-score are ill-defined and being set to 0.0 in labels with no predicted samples. Use `zero_division` parameter to control this behavior.\n",
      "  _warn_prf(average, modifier, msg_start, len(result))\n"
     ]
    }
   ],
   "source": [
    "from sklearn.svm import SVC\n",
    "\n",
    "# 创建并训练SVC模型\n",
    "svc_model = SVC(random_state=42)\n",
    "svc_model.fit(X_train, y_train)\n",
    "\n",
    "# 预测\n",
    "y_pred_svc = svc_model.predict(X_test)\n",
    "\n",
    "# 评估模型\n",
    "print(\"SVC Classifier Confusion Matrix:\")\n",
    "print(confusion_matrix(y_test, y_pred_svc))\n",
    "print(\"\\nSVC Classifier Classification Report:\")\n",
    "print(classification_report(y_test, y_pred_svc))\n"
   ]
  },
  {
   "cell_type": "code",
   "execution_count": null,
   "id": "3517b0b4-f388-4eea-bd88-89cbc95988f3",
   "metadata": {},
   "outputs": [],
   "source": []
  },
  {
   "cell_type": "code",
   "execution_count": null,
   "id": "c7d59193-0264-46c1-81c8-d9b54332479b",
   "metadata": {},
   "outputs": [],
   "source": []
  },
  {
   "cell_type": "code",
   "execution_count": null,
   "id": "cd9fa996-7354-415b-ad50-d42036684218",
   "metadata": {},
   "outputs": [],
   "source": []
  }
 ],
 "metadata": {
  "kernelspec": {
   "display_name": "Python 3 (ipykernel)",
   "language": "python",
   "name": "python3"
  },
  "language_info": {
   "codemirror_mode": {
    "name": "ipython",
    "version": 3
   },
   "file_extension": ".py",
   "mimetype": "text/x-python",
   "name": "python",
   "nbconvert_exporter": "python",
   "pygments_lexer": "ipython3",
   "version": "3.8.8"
  }
 },
 "nbformat": 4,
 "nbformat_minor": 5
}
